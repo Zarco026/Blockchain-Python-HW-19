{
 "cells": [
  {
   "cell_type": "code",
   "execution_count": 21,
   "id": "db79ec8e-92d4-4221-8225-363007815629",
   "metadata": {},
   "outputs": [
    {
     "name": "stdout",
     "output_type": "stream",
     "text": [
      "{'Numderive_3': {'address': '1HiGctb8PTeRbVDreQXfYofNmo6AYUhZZ9',\n",
      "                 'bip32_extended_private_key': 'xprvA45SEo9M93kVR2frxZuZ3CyJhnYxv4hGq8bmNKa4i61RMLwEUxSH4iGiXLFXZRVmAUiKw8QoPGhdUUKZDLeXjHgKikfrttMWaWVvTTjFp17',\n",
      "                 'bip32_root_key': 'xprv9s21ZrQH143K4FEd48F4k5Nip1MndL7ifgux2u9FzL1LayzpNbYBSUCwFUkRQeSqyZpZwPC7vLpTSdxRFRzUDP4kaXhguJmPHHDpczmk31a',\n",
      "                 'coin': 'BTC',\n",
      "                 'mnemonic_words': 'identify margin cat bring argue question '\n",
      "                                   'develop owner benefit language net alcohol',\n",
      "                 'path': \"m/44'/0'/0'/3\",\n",
      "                 'privatekey': 'KyWq4Dc1qWbEQRzVawmYZStt8TGE41QWunyuaB3NvE3G9ewbfQh1',\n",
      "                 'publickey': '031778e62318b4aa9fa23d18ac3ca5fbea5dd8acf1a0952d1228a830b02c80a2de'}}\n"
     ]
    }
   ],
   "source": [
    "import pprint\n",
    "import binascii\n",
    "import mnemonic\n",
    "import bip32utils\n",
    "\n",
    "def bip39(mnemonic_words, children):\n",
    "    # mnemonic_words: 12 word mnemonic.\n",
    "    #numderive: positive integer for num of address desired.    FUTURE IMPLEMENT...\n",
    "    # choose coin\n",
    "    #- return main account information\n",
    "    #'''    \n",
    "    mobj = mnemonic.Mnemonic(\"english\")\n",
    "    seed = mobj.to_seed(mnemonic_words)    \n",
    "    holder = {}    \n",
    "    if numderive < 0:\n",
    "        raise ValueError('Number must be positive.')    \n",
    "    for num in range(numderive):        \n",
    "        bip32_root_key_obj = bip32utils.BIP32Key.fromEntropy(seed)\n",
    "        bip32_num_key_obj = bip32_root_key_obj.ChildKey(\n",
    "            44 + bip32utils.BIP32_HARDEN\n",
    "                ).ChildKey(\n",
    "                0 + bip32utils.BIP32_HARDEN\n",
    "                ).ChildKey(\n",
    "            0 + bip32utils.BIP32_HARDEN\n",
    "            ).ChildKey(0).ChildKey(numderive)        \n",
    "        template = {\n",
    "        'mnemonic_words': mnemonic_words,\n",
    "        'bip32_root_key': bip32_root_key_obj.ExtendedKey(),\n",
    "        'bip32_extended_private_key': bip32_num_key_obj.ExtendedKey(),\n",
    "        'path': f\"m/44'/0'/0'/{numderive}\",\n",
    "        'address': bip32_num_key_obj.Address(),\n",
    "        'publickey': binascii.hexlify(bip32_num_key_obj.PublicKey()).decode(),\n",
    "        'privatekey': bip32_num_key_obj.WalletImportFormat(),\n",
    "        'coin': 'BTC'\n",
    "        }        \n",
    "        holder[f'Numderive_{numderive}'] = template\n",
    "    return holder\n",
    "\n",
    "mnemonic_words = \"identify margin cat bring argue question develop owner benefit language net alcohol\"\n",
    "numderive = 3\n",
    "pprint.pprint(bip39(mnemonic_words, numderive))\n"
   ]
  },
  {
   "cell_type": "code",
   "execution_count": 5,
   "id": "f3f075b6-67dd-412d-a48a-42684d0fa5d4",
   "metadata": {},
   "outputs": [
    {
     "data": {
      "text/plain": [
       "['.ipynb_checkpoints',\n",
       " 'API HW',\n",
       " 'AWS HW.ipynb',\n",
       " 'Blockchain Python HW 19.ipynb',\n",
       " 'Blockchain-HW-18-main',\n",
       " 'Blockchain-HW-18-main.zip',\n",
       " 'Constants.ipynb',\n",
       " 'credit_risk_ensemble.ipynb',\n",
       " 'credit_risk_resampling.ipynb',\n",
       " 'Deep Learning The Sound of Music.ipynb',\n",
       " 'HW_2_Demo',\n",
       " 'LSTM Stock Predictor FNG_Deep_Learning_HW14.ipynb',\n",
       " 'NLP HW 12.ipynb',\n",
       " 'Pandas HW',\n",
       " 'Python-Homework',\n",
       " 'PyViz HW 6.ipynb',\n",
       " 'recommendPortfolio-ee504b46-09e1-432c-a97c-c483d0b1e7ae.zip',\n",
       " 'recommendPortfolio.yaml',\n",
       " 'Risky Business HW 11.ipynb',\n",
       " 'RoboAdvisor_1_aa3b209e-b465-4234-8b59-61773874f431_Bot_LEX_V1.zip',\n",
       " 'SQL HW 7',\n",
       " 'SQL HW 7.ipynb',\n",
       " 'Stock_Predictor_Closing_Deep_Learning_HW14.ipynb',\n",
       " 'Time Series HW 10',\n",
       " 'Untitled.ipynb',\n",
       " 'Untitled1.ipynb',\n",
       " 'xrp_analysis.csv',\n",
       " 'xrp_xlm.csv']"
      ]
     },
     "execution_count": 5,
     "metadata": {},
     "output_type": "execute_result"
    }
   ],
   "source": [
    "import os\n",
    "os.listdir()"
   ]
  },
  {
   "cell_type": "code",
   "execution_count": 14,
   "id": "367b1120-8e2d-4076-ac98-f910685a1522",
   "metadata": {},
   "outputs": [
    {
     "data": {
      "text/plain": [
       "'C:\\\\Users\\\\Sejas\\\\Desktop\\\\FinTech\\\\Homeworks'"
      ]
     },
     "execution_count": 14,
     "metadata": {},
     "output_type": "execute_result"
    }
   ],
   "source": [
    "pwd"
   ]
  },
  {
   "cell_type": "code",
   "execution_count": 15,
   "id": "c500ac5d-9215-4c45-bc88-72c700b8ec58",
   "metadata": {},
   "outputs": [
    {
     "name": "stdout",
     "output_type": "stream",
     "text": [
      "C:\\Users\\Sejas\\Desktop\\FinTech\n"
     ]
    }
   ],
   "source": [
    "cd .."
   ]
  },
  {
   "cell_type": "code",
   "execution_count": 16,
   "id": "dc8cf931-4a18-4219-9889-4cbf7501f49e",
   "metadata": {},
   "outputs": [
    {
     "name": "stdout",
     "output_type": "stream",
     "text": [
      " Volume in drive C is Windows\n",
      " Volume Serial Number is 7C33-0F6A\n",
      "\n",
      " Directory of C:\\Users\\Sejas\\Desktop\\FinTech\n",
      "\n",
      "10/27/2021  07:53 PM    <DIR>          .\n",
      "10/27/2021  07:53 PM    <DIR>          ..\n",
      "10/26/2021  11:18 AM    <DIR>          HDWALLET\n",
      "10/27/2021  11:42 PM    <DIR>          Homeworks\n",
      "08/25/2021  07:08 PM    <DIR>          mia-mia-fin-pt-05-2021-u-c-master\n",
      "06/07/2021  01:37 AM    <DIR>          Practice\n",
      "08/02/2021  04:35 PM    <DIR>          Projects\n",
      "               0 File(s)              0 bytes\n",
      "               7 Dir(s)  26,275,717,120 bytes free\n"
     ]
    }
   ],
   "source": [
    "ls"
   ]
  },
  {
   "cell_type": "code",
   "execution_count": 17,
   "id": "95ae6e4a-0116-4cd1-be8b-882ee97d41c2",
   "metadata": {},
   "outputs": [
    {
     "name": "stdout",
     "output_type": "stream",
     "text": [
      "C:\\Users\\Sejas\\Desktop\\FinTech\\HDWALLET\n"
     ]
    }
   ],
   "source": [
    "cd HDWALLET"
   ]
  },
  {
   "cell_type": "code",
   "execution_count": 18,
   "id": "058fd169-a046-4b16-b2c9-cbea712831c2",
   "metadata": {},
   "outputs": [
    {
     "data": {
      "text/plain": [
       "['anonymous',\n",
       " 'apache',\n",
       " 'apache_start.bat',\n",
       " 'apache_stop.bat',\n",
       " 'catalina_service.bat',\n",
       " 'catalina_start.bat',\n",
       " 'catalina_stop.bat',\n",
       " 'cgi-bin',\n",
       " 'contrib',\n",
       " 'ctlscript.bat',\n",
       " 'FileZillaFTP',\n",
       " 'filezilla_setup.bat',\n",
       " 'filezilla_start.bat',\n",
       " 'filezilla_stop.bat',\n",
       " 'hd-wallet-derive-master',\n",
       " 'img',\n",
       " 'install',\n",
       " 'killprocess.bat',\n",
       " 'licenses',\n",
       " 'locale',\n",
       " 'mailoutput',\n",
       " 'mailtodisk',\n",
       " 'MercuryMail',\n",
       " 'mercury_start.bat',\n",
       " 'mercury_stop.bat',\n",
       " 'mysql',\n",
       " 'mysql_start.bat',\n",
       " 'mysql_stop.bat',\n",
       " 'passwords.txt',\n",
       " 'perl',\n",
       " 'php',\n",
       " 'phpMyAdmin',\n",
       " 'properties.ini',\n",
       " 'readme_de.txt',\n",
       " 'readme_en.txt',\n",
       " 'sendmail',\n",
       " 'service.exe',\n",
       " 'setup_xampp.bat',\n",
       " 'src',\n",
       " 'test_php.bat',\n",
       " 'tmp',\n",
       " 'tomcat',\n",
       " 'uninstall.dat',\n",
       " 'webalizer',\n",
       " 'webdav']"
      ]
     },
     "execution_count": 18,
     "metadata": {},
     "output_type": "execute_result"
    }
   ],
   "source": [
    "os.listdir()"
   ]
  },
  {
   "cell_type": "code",
   "execution_count": null,
   "id": "de0e187a-9e43-4274-9086-5b9599202feb",
   "metadata": {},
   "outputs": [],
   "source": []
  }
 ],
 "metadata": {
  "kernelspec": {
   "display_name": "Python [conda env:pyvizenv2]",
   "language": "python",
   "name": "conda-env-pyvizenv2-py"
  },
  "language_info": {
   "codemirror_mode": {
    "name": "ipython",
    "version": 3
   },
   "file_extension": ".py",
   "mimetype": "text/x-python",
   "name": "python",
   "nbconvert_exporter": "python",
   "pygments_lexer": "ipython3",
   "version": "3.7.10"
  }
 },
 "nbformat": 4,
 "nbformat_minor": 5
}
